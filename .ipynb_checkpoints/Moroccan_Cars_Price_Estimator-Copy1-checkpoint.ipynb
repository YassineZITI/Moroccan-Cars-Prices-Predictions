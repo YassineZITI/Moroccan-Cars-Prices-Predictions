{
 "cells": [
  {
   "cell_type": "code",
   "execution_count": 13,
   "metadata": {
    "id": "KXczQjAxGwMd"
   },
   "outputs": [],
   "source": [
    "import warnings\n",
    "warnings.filterwarnings('ignore')"
   ]
  },
  {
   "cell_type": "code",
   "execution_count": 17,
   "metadata": {
    "id": "ADQ7TN6MU5mo"
   },
   "outputs": [],
   "source": [
    "import pandas as pd\n",
    "import numpy as np\n",
    "import requests\n",
    "import re\n",
    "import numpy\n",
    "import random\n",
    "from bs4 import BeautifulSoup\n",
    "import matplotlib.pyplot as plt\n",
    "%matplotlib inline"
   ]
  },
  {
   "cell_type": "markdown",
   "metadata": {
    "id": "6jrPUL4BUEL4"
   },
   "source": [
    "# Data Collection"
   ]
  },
  {
   "cell_type": "code",
   "execution_count": 3,
   "metadata": {
    "id": "WHMu9Vb5_egf"
   },
   "outputs": [],
   "source": [
    "def get_page_jumia_data(page):\n",
    "    url = 'https://deals.jumia.ma/voitures?page={}'.format(page)\n",
    "    response = requests.get(url).content\n",
    "    soup = BeautifulSoup(response,'html.parser')\n",
    "    autos = soup.find_all('div',class_='announcement-infos')\n",
    "\n",
    "    autos = ['https://deals.jumia.ma/'+i.a['href'] for i in autos]\n",
    "\n",
    "    Autos = []\n",
    "    for auto in autos:\n",
    "        Auto = dict()\n",
    "        response = requests.get(auto).content\n",
    "        soup = BeautifulSoup(response,'html.parser')\n",
    "        #price\n",
    "        if soup.find('span',itemprop='price'):\n",
    "            Auto['price'] = soup.find('span',itemprop='price')['content']\n",
    "              #currency\n",
    "            Auto['currency'] = soup.find('span',itemprop='priceCurrency')['content']\n",
    "        else:\n",
    "            continue\n",
    "        try:\n",
    "            attrs = soup.find('div','new-attr-style').find_all('h3')\n",
    "        except:\n",
    "            continue\n",
    "        for attr in attrs:\n",
    "            key = re.sub(r'\\W+', ' ', str(attr)).split(' ')[2]\n",
    "            Auto[key] = attr.span.text \n",
    "        Autos.append(Auto)\n",
    "    return Autos\n"
   ]
  },
  {
   "cell_type": "code",
   "execution_count": 4,
   "metadata": {
    "id": "-5oL1awHcH5w"
   },
   "outputs": [],
   "source": [
    "data = []\n",
    "for page in range(46):\n",
    "    data.extend(get_page_jumia_data(page))"
   ]
  },
  {
   "cell_type": "code",
   "execution_count": 5,
   "metadata": {
    "colab": {
     "base_uri": "https://localhost:8080/"
    },
    "id": "nWNgmGmTo38P",
    "outputId": "354dd25b-ef66-4d81-e2c2-4ca48e83021d"
   },
   "outputs": [
    {
     "data": {
      "text/plain": [
       "366"
      ]
     },
     "execution_count": 5,
     "metadata": {},
     "output_type": "execute_result"
    }
   ],
   "source": [
    "len(data)"
   ]
  },
  {
   "cell_type": "code",
   "execution_count": 238,
   "metadata": {
    "colab": {
     "base_uri": "https://localhost:8080/",
     "height": 423
    },
    "id": "bg7KDehDpT1G",
    "outputId": "722bfb4d-30ef-4a3e-885a-ea731703fd3f"
   },
   "outputs": [
    {
     "data": {
      "text/html": [
       "<div>\n",
       "<style scoped>\n",
       "    .dataframe tbody tr th:only-of-type {\n",
       "        vertical-align: middle;\n",
       "    }\n",
       "\n",
       "    .dataframe tbody tr th {\n",
       "        vertical-align: top;\n",
       "    }\n",
       "\n",
       "    .dataframe thead th {\n",
       "        text-align: right;\n",
       "    }\n",
       "</style>\n",
       "<table border=\"1\" class=\"dataframe\">\n",
       "  <thead>\n",
       "    <tr style=\"text-align: right;\">\n",
       "      <th></th>\n",
       "      <th>price</th>\n",
       "      <th>currency</th>\n",
       "      <th>Marque</th>\n",
       "      <th>Modèle</th>\n",
       "      <th>Transmission</th>\n",
       "      <th>Carburant</th>\n",
       "      <th>Année</th>\n",
       "      <th>Kilométrage</th>\n",
       "    </tr>\n",
       "  </thead>\n",
       "  <tbody>\n",
       "    <tr>\n",
       "      <th>0</th>\n",
       "      <td>37000.0</td>\n",
       "      <td>MAD</td>\n",
       "      <td>Peugeot</td>\n",
       "      <td>405</td>\n",
       "      <td>Manuelle</td>\n",
       "      <td>Diesel</td>\n",
       "      <td>1991</td>\n",
       "      <td>NaN</td>\n",
       "    </tr>\n",
       "    <tr>\n",
       "      <th>1</th>\n",
       "      <td>47000.0</td>\n",
       "      <td>MAD</td>\n",
       "      <td>Kia</td>\n",
       "      <td>Carens</td>\n",
       "      <td>Automatique</td>\n",
       "      <td>Diesel</td>\n",
       "      <td>2005</td>\n",
       "      <td>250000</td>\n",
       "    </tr>\n",
       "    <tr>\n",
       "      <th>2</th>\n",
       "      <td>130000.0</td>\n",
       "      <td>MAD</td>\n",
       "      <td>Renault</td>\n",
       "      <td>Fluence</td>\n",
       "      <td>Manuelle</td>\n",
       "      <td>Diesel</td>\n",
       "      <td>2013</td>\n",
       "      <td>175000</td>\n",
       "    </tr>\n",
       "    <tr>\n",
       "      <th>3</th>\n",
       "      <td>58000.0</td>\n",
       "      <td>MAD</td>\n",
       "      <td>BMW</td>\n",
       "      <td>X5</td>\n",
       "      <td>Automatique</td>\n",
       "      <td>Diesel</td>\n",
       "      <td>2004</td>\n",
       "      <td>385000</td>\n",
       "    </tr>\n",
       "    <tr>\n",
       "      <th>4</th>\n",
       "      <td>45000.0</td>\n",
       "      <td>MAD</td>\n",
       "      <td>Renault</td>\n",
       "      <td>Laguna</td>\n",
       "      <td>Manuelle</td>\n",
       "      <td>Diesel</td>\n",
       "      <td>1999</td>\n",
       "      <td>NaN</td>\n",
       "    </tr>\n",
       "    <tr>\n",
       "      <th>...</th>\n",
       "      <td>...</td>\n",
       "      <td>...</td>\n",
       "      <td>...</td>\n",
       "      <td>...</td>\n",
       "      <td>...</td>\n",
       "      <td>...</td>\n",
       "      <td>...</td>\n",
       "      <td>...</td>\n",
       "    </tr>\n",
       "    <tr>\n",
       "      <th>361</th>\n",
       "      <td>130000.0</td>\n",
       "      <td>MAD</td>\n",
       "      <td>Kia</td>\n",
       "      <td>Ceed</td>\n",
       "      <td>Manuelle</td>\n",
       "      <td>Diesel</td>\n",
       "      <td>2016</td>\n",
       "      <td>53000</td>\n",
       "    </tr>\n",
       "    <tr>\n",
       "      <th>362</th>\n",
       "      <td>179000.0</td>\n",
       "      <td>MAD</td>\n",
       "      <td>Volkswagen</td>\n",
       "      <td>Jetta</td>\n",
       "      <td>Automatique</td>\n",
       "      <td>Diesel</td>\n",
       "      <td>2016</td>\n",
       "      <td>51000</td>\n",
       "    </tr>\n",
       "    <tr>\n",
       "      <th>363</th>\n",
       "      <td>340000.0</td>\n",
       "      <td>MAD</td>\n",
       "      <td>Audi</td>\n",
       "      <td>Q3</td>\n",
       "      <td>Automatique</td>\n",
       "      <td>Diesel</td>\n",
       "      <td>2016</td>\n",
       "      <td>53000</td>\n",
       "    </tr>\n",
       "    <tr>\n",
       "      <th>364</th>\n",
       "      <td>158000.0</td>\n",
       "      <td>MAD</td>\n",
       "      <td>Volkswagen</td>\n",
       "      <td>Passat</td>\n",
       "      <td>Manuelle</td>\n",
       "      <td>Diesel</td>\n",
       "      <td>2010</td>\n",
       "      <td>146000</td>\n",
       "    </tr>\n",
       "    <tr>\n",
       "      <th>365</th>\n",
       "      <td>280000.0</td>\n",
       "      <td>MAD</td>\n",
       "      <td>Mercedes</td>\n",
       "      <td>A -class</td>\n",
       "      <td>Automatique</td>\n",
       "      <td>Diesel</td>\n",
       "      <td>2016</td>\n",
       "      <td>23800</td>\n",
       "    </tr>\n",
       "  </tbody>\n",
       "</table>\n",
       "<p>366 rows × 8 columns</p>\n",
       "</div>"
      ],
      "text/plain": [
       "        price currency      Marque    Modèle Transmission Carburant Année  \\\n",
       "0     37000.0      MAD     Peugeot       405     Manuelle    Diesel  1991   \n",
       "1     47000.0      MAD         Kia    Carens  Automatique    Diesel  2005   \n",
       "2    130000.0      MAD     Renault   Fluence     Manuelle    Diesel  2013   \n",
       "3     58000.0      MAD         BMW        X5  Automatique    Diesel  2004   \n",
       "4     45000.0      MAD     Renault    Laguna     Manuelle    Diesel  1999   \n",
       "..        ...      ...         ...       ...          ...       ...   ...   \n",
       "361  130000.0      MAD         Kia      Ceed     Manuelle    Diesel  2016   \n",
       "362  179000.0      MAD  Volkswagen     Jetta  Automatique    Diesel  2016   \n",
       "363  340000.0      MAD        Audi        Q3  Automatique    Diesel  2016   \n",
       "364  158000.0      MAD  Volkswagen    Passat     Manuelle    Diesel  2010   \n",
       "365  280000.0      MAD    Mercedes  A -class  Automatique    Diesel  2016   \n",
       "\n",
       "    Kilométrage  \n",
       "0           NaN  \n",
       "1        250000  \n",
       "2        175000  \n",
       "3        385000  \n",
       "4           NaN  \n",
       "..          ...  \n",
       "361       53000  \n",
       "362       51000  \n",
       "363       53000  \n",
       "364      146000  \n",
       "365       23800  \n",
       "\n",
       "[366 rows x 8 columns]"
      ]
     },
     "execution_count": 238,
     "metadata": {},
     "output_type": "execute_result"
    }
   ],
   "source": [
    "df = pd.DataFrame(data)\n",
    "df"
   ]
  },
  {
   "cell_type": "code",
   "execution_count": 239,
   "metadata": {
    "colab": {
     "base_uri": "https://localhost:8080/"
    },
    "id": "SQ12-KOlrkNo",
    "outputId": "e3395296-9227-4a3a-d2a1-1940278147ba"
   },
   "outputs": [
    {
     "data": {
      "text/plain": [
       "Manuelle       280\n",
       "Automatique     75\n",
       "NaN             11\n",
       "Name: Transmission, dtype: int64"
      ]
     },
     "execution_count": 239,
     "metadata": {},
     "output_type": "execute_result"
    }
   ],
   "source": [
    "df.Transmission.value_counts(dropna=False)"
   ]
  },
  {
   "cell_type": "code",
   "execution_count": 240,
   "metadata": {
    "colab": {
     "base_uri": "https://localhost:8080/"
    },
    "id": "T65jGhgtS4Fd",
    "outputId": "9e37c9fa-e2b6-411f-fd66-9fd43967e9c7"
   },
   "outputs": [
    {
     "data": {
      "text/plain": [
       "Diesel     272\n",
       "Essence     83\n",
       "NaN         11\n",
       "Name: Carburant, dtype: int64"
      ]
     },
     "execution_count": 240,
     "metadata": {},
     "output_type": "execute_result"
    }
   ],
   "source": [
    "df.Carburant.value_counts(dropna=False)"
   ]
  },
  {
   "cell_type": "code",
   "execution_count": 241,
   "metadata": {
    "colab": {
     "base_uri": "https://localhost:8080/"
    },
    "id": "-ilH26Y3SxO2",
    "outputId": "93976cec-0902-4f48-bc77-dc55e6d2f36a"
   },
   "outputs": [
    {
     "name": "stdout",
     "output_type": "stream",
     "text": [
      "<class 'pandas.core.frame.DataFrame'>\n",
      "RangeIndex: 366 entries, 0 to 365\n",
      "Data columns (total 8 columns):\n",
      " #   Column        Non-Null Count  Dtype \n",
      "---  ------        --------------  ----- \n",
      " 0   price         366 non-null    object\n",
      " 1   currency      366 non-null    object\n",
      " 2   Marque        366 non-null    object\n",
      " 3   Modèle        366 non-null    object\n",
      " 4   Transmission  355 non-null    object\n",
      " 5   Carburant     355 non-null    object\n",
      " 6   Année         365 non-null    object\n",
      " 7   Kilométrage   340 non-null    object\n",
      "dtypes: object(8)\n",
      "memory usage: 23.0+ KB\n"
     ]
    }
   ],
   "source": [
    "df.info()"
   ]
  },
  {
   "cell_type": "code",
   "execution_count": 242,
   "metadata": {
    "colab": {
     "base_uri": "https://localhost:8080/"
    },
    "id": "QIs-cDAZUJjY",
    "outputId": "b18e69f7-a1d0-44bc-b654-993a042c1b8b"
   },
   "outputs": [
    {
     "data": {
      "text/plain": [
       "MAD    366\n",
       "Name: currency, dtype: int64"
      ]
     },
     "execution_count": 242,
     "metadata": {},
     "output_type": "execute_result"
    }
   ],
   "source": [
    "df.currency.value_counts(dropna=False)"
   ]
  },
  {
   "cell_type": "code",
   "execution_count": 243,
   "metadata": {
    "colab": {
     "base_uri": "https://localhost:8080/"
    },
    "id": "XXlL64R_0jpb",
    "outputId": "26109132-690a-405e-96c5-9c64337a1bbd"
   },
   "outputs": [],
   "source": [
    "!pip install google-currency -q"
   ]
  },
  {
   "cell_type": "code",
   "execution_count": 244,
   "metadata": {
    "colab": {
     "base_uri": "https://localhost:8080/",
     "height": 206
    },
    "id": "TcA92wlG1uby",
    "outputId": "4da9a445-9068-4631-fae9-2c66fd482aa2"
   },
   "outputs": [
    {
     "data": {
      "text/html": [
       "<div>\n",
       "<style scoped>\n",
       "    .dataframe tbody tr th:only-of-type {\n",
       "        vertical-align: middle;\n",
       "    }\n",
       "\n",
       "    .dataframe tbody tr th {\n",
       "        vertical-align: top;\n",
       "    }\n",
       "\n",
       "    .dataframe thead th {\n",
       "        text-align: right;\n",
       "    }\n",
       "</style>\n",
       "<table border=\"1\" class=\"dataframe\">\n",
       "  <thead>\n",
       "    <tr style=\"text-align: right;\">\n",
       "      <th></th>\n",
       "      <th>price</th>\n",
       "      <th>Marque</th>\n",
       "      <th>Modèle</th>\n",
       "      <th>Transmission</th>\n",
       "      <th>Carburant</th>\n",
       "      <th>Année</th>\n",
       "      <th>Kilométrage</th>\n",
       "    </tr>\n",
       "  </thead>\n",
       "  <tbody>\n",
       "    <tr>\n",
       "      <th>0</th>\n",
       "      <td>37000</td>\n",
       "      <td>Peugeot</td>\n",
       "      <td>405</td>\n",
       "      <td>Manuelle</td>\n",
       "      <td>Diesel</td>\n",
       "      <td>1991</td>\n",
       "      <td>NaN</td>\n",
       "    </tr>\n",
       "    <tr>\n",
       "      <th>1</th>\n",
       "      <td>47000</td>\n",
       "      <td>Kia</td>\n",
       "      <td>Carens</td>\n",
       "      <td>Automatique</td>\n",
       "      <td>Diesel</td>\n",
       "      <td>2005</td>\n",
       "      <td>250000</td>\n",
       "    </tr>\n",
       "    <tr>\n",
       "      <th>2</th>\n",
       "      <td>130000</td>\n",
       "      <td>Renault</td>\n",
       "      <td>Fluence</td>\n",
       "      <td>Manuelle</td>\n",
       "      <td>Diesel</td>\n",
       "      <td>2013</td>\n",
       "      <td>175000</td>\n",
       "    </tr>\n",
       "    <tr>\n",
       "      <th>3</th>\n",
       "      <td>58000</td>\n",
       "      <td>BMW</td>\n",
       "      <td>X5</td>\n",
       "      <td>Automatique</td>\n",
       "      <td>Diesel</td>\n",
       "      <td>2004</td>\n",
       "      <td>385000</td>\n",
       "    </tr>\n",
       "    <tr>\n",
       "      <th>4</th>\n",
       "      <td>45000</td>\n",
       "      <td>Renault</td>\n",
       "      <td>Laguna</td>\n",
       "      <td>Manuelle</td>\n",
       "      <td>Diesel</td>\n",
       "      <td>1999</td>\n",
       "      <td>NaN</td>\n",
       "    </tr>\n",
       "  </tbody>\n",
       "</table>\n",
       "</div>"
      ],
      "text/plain": [
       "    price   Marque   Modèle Transmission Carburant Année Kilométrage\n",
       "0   37000  Peugeot      405     Manuelle    Diesel  1991         NaN\n",
       "1   47000      Kia   Carens  Automatique    Diesel  2005      250000\n",
       "2  130000  Renault  Fluence     Manuelle    Diesel  2013      175000\n",
       "3   58000      BMW       X5  Automatique    Diesel  2004      385000\n",
       "4   45000  Renault   Laguna     Manuelle    Diesel  1999         NaN"
      ]
     },
     "execution_count": 244,
     "metadata": {},
     "output_type": "execute_result"
    }
   ],
   "source": [
    "from google_currency import convert  \n",
    "import re\n",
    "def to_Morrocan_Dirham(row):\n",
    "    price = row['price']\n",
    "    currency = row['currency']\n",
    "    p = convert(currency,'MAD',int(price.split('.')[0]))\n",
    "    return int(re.findall(r'\\d+',p)[0])\n",
    "df.price = df.apply(lambda row:to_Morrocan_Dirham(row),axis=1)\n",
    "df.drop(columns=['currency'],inplace=True)\n",
    "df.head()"
   ]
  },
  {
   "cell_type": "code",
   "execution_count": 245,
   "metadata": {
    "colab": {
     "base_uri": "https://localhost:8080/"
    },
    "id": "0PeaWnMXNb-D",
    "outputId": "8bab6b37-fa9a-4b1f-efa8-fe6295e631f4"
   },
   "outputs": [
    {
     "name": "stdout",
     "output_type": "stream",
     "text": [
      "<class 'pandas.core.frame.DataFrame'>\n",
      "RangeIndex: 366 entries, 0 to 365\n",
      "Data columns (total 7 columns):\n",
      " #   Column        Non-Null Count  Dtype \n",
      "---  ------        --------------  ----- \n",
      " 0   price         366 non-null    int64 \n",
      " 1   Marque        366 non-null    object\n",
      " 2   Modèle        366 non-null    object\n",
      " 3   Transmission  355 non-null    object\n",
      " 4   Carburant     355 non-null    object\n",
      " 5   Année         365 non-null    object\n",
      " 6   Kilométrage   340 non-null    object\n",
      "dtypes: int64(1), object(6)\n",
      "memory usage: 20.1+ KB\n"
     ]
    }
   ],
   "source": [
    "df.info()"
   ]
  },
  {
   "cell_type": "code",
   "execution_count": 246,
   "metadata": {
    "id": "XfdOAcTpNz6T"
   },
   "outputs": [],
   "source": [
    "df['Année'] = df['Année'].astype('float')"
   ]
  },
  {
   "cell_type": "code",
   "execution_count": 247,
   "metadata": {
    "id": "YHIrx_hkNK5E"
   },
   "outputs": [],
   "source": [
    "df['Année'] = 2022 - df['Année']"
   ]
  },
  {
   "cell_type": "code",
   "execution_count": 248,
   "metadata": {
    "colab": {
     "base_uri": "https://localhost:8080/"
    },
    "id": "JkEbaTELdTRM",
    "outputId": "d556517a-51a8-4f64-e61e-3d6ec3c71481"
   },
   "outputs": [
    {
     "data": {
      "text/plain": [
       "array(['Peugeot', 'Kia', 'Renault', 'BMW', 'Volkswagen', 'Fiat',\n",
       "       'Mercedes', 'Dacia', 'Nissan', 'Alfa Romeo', 'Toyota', 'Ford',\n",
       "       'Audi', 'Honda', 'Citroen', 'Volvo', 'BYD', 'Hyundai', 'Chevrolet',\n",
       "       'Maserati', 'Mitsubishi', 'Seat', 'Opel', 'Land rover', 'Lifan',\n",
       "       'Autre', 'Skoda', 'Porsche', 'Astra'], dtype=object)"
      ]
     },
     "execution_count": 248,
     "metadata": {},
     "output_type": "execute_result"
    }
   ],
   "source": [
    "df.Marque.unique()"
   ]
  },
  {
   "cell_type": "code",
   "execution_count": 249,
   "metadata": {
    "id": "UBYwCXLJc-jB"
   },
   "outputs": [],
   "source": [
    "df = df[df.Marque != 'Autre']\n",
    "df = df[df.Marque != 'BYD']\n",
    "df = df[df.Marque != 'Lifan']"
   ]
  },
  {
   "cell_type": "code",
   "execution_count": 250,
   "metadata": {
    "id": "LOkOhloIN_oc"
   },
   "outputs": [],
   "source": [
    "df['Kilométrage'] = df['Kilométrage'].astype('float')"
   ]
  },
  {
   "cell_type": "code",
   "execution_count": 251,
   "metadata": {
    "colab": {
     "base_uri": "https://localhost:8080/"
    },
    "id": "5QQVh-rUf0YN",
    "outputId": "7b9286a3-db1b-426b-cd72-4a4ae2fe10e1"
   },
   "outputs": [
    {
     "data": {
      "text/plain": [
       "array(['Peugeot', 'Kia', 'Renault', 'BMW', 'Volkswagen', 'Fiat',\n",
       "       'Mercedes', 'Dacia', 'Nissan', 'Alfa Romeo', 'Toyota', 'Ford',\n",
       "       'Audi', 'Honda', 'Citroen', 'Volvo', 'Hyundai', 'Chevrolet',\n",
       "       'Maserati', 'Mitsubishi', 'Seat', 'Opel', 'Land rover', 'Skoda',\n",
       "       'Porsche', 'Astra'], dtype=object)"
      ]
     },
     "execution_count": 251,
     "metadata": {},
     "output_type": "execute_result"
    }
   ],
   "source": [
    "df.Marque.unique()"
   ]
  },
  {
   "cell_type": "code",
   "execution_count": 252,
   "metadata": {
    "colab": {
     "base_uri": "https://localhost:8080/",
     "height": 645
    },
    "id": "wwHqC7D9d2KT",
    "outputId": "438c4cbc-6be8-431b-ff46-a7d2699f8975"
   },
   "outputs": [
    {
     "data": {
      "text/html": [
       "<div>\n",
       "<style scoped>\n",
       "    .dataframe tbody tr th:only-of-type {\n",
       "        vertical-align: middle;\n",
       "    }\n",
       "\n",
       "    .dataframe tbody tr th {\n",
       "        vertical-align: top;\n",
       "    }\n",
       "\n",
       "    .dataframe thead th {\n",
       "        text-align: right;\n",
       "    }\n",
       "</style>\n",
       "<table border=\"1\" class=\"dataframe\">\n",
       "  <thead>\n",
       "    <tr style=\"text-align: right;\">\n",
       "      <th></th>\n",
       "      <th>Marque</th>\n",
       "      <th>Modèle</th>\n",
       "    </tr>\n",
       "  </thead>\n",
       "  <tbody>\n",
       "    <tr>\n",
       "      <th>16</th>\n",
       "      <td>Mercedes</td>\n",
       "      <td>M -class</td>\n",
       "    </tr>\n",
       "    <tr>\n",
       "      <th>17</th>\n",
       "      <td>Mercedes</td>\n",
       "      <td>ML -class AMG</td>\n",
       "    </tr>\n",
       "    <tr>\n",
       "      <th>22</th>\n",
       "      <td>Mercedes</td>\n",
       "      <td>E -class</td>\n",
       "    </tr>\n",
       "    <tr>\n",
       "      <th>38</th>\n",
       "      <td>Mercedes</td>\n",
       "      <td>C -class</td>\n",
       "    </tr>\n",
       "    <tr>\n",
       "      <th>50</th>\n",
       "      <td>Mercedes</td>\n",
       "      <td>C -class</td>\n",
       "    </tr>\n",
       "    <tr>\n",
       "      <th>84</th>\n",
       "      <td>Mercedes</td>\n",
       "      <td>A -class</td>\n",
       "    </tr>\n",
       "    <tr>\n",
       "      <th>127</th>\n",
       "      <td>Mercedes</td>\n",
       "      <td>ML -class AMG</td>\n",
       "    </tr>\n",
       "    <tr>\n",
       "      <th>155</th>\n",
       "      <td>Mercedes</td>\n",
       "      <td>C -class</td>\n",
       "    </tr>\n",
       "    <tr>\n",
       "      <th>177</th>\n",
       "      <td>Mercedes</td>\n",
       "      <td>R -class</td>\n",
       "    </tr>\n",
       "    <tr>\n",
       "      <th>201</th>\n",
       "      <td>Mercedes</td>\n",
       "      <td>C -class</td>\n",
       "    </tr>\n",
       "    <tr>\n",
       "      <th>235</th>\n",
       "      <td>Mercedes</td>\n",
       "      <td>C -class</td>\n",
       "    </tr>\n",
       "    <tr>\n",
       "      <th>245</th>\n",
       "      <td>Mercedes</td>\n",
       "      <td>B-class</td>\n",
       "    </tr>\n",
       "    <tr>\n",
       "      <th>263</th>\n",
       "      <td>Mercedes</td>\n",
       "      <td>GL -class</td>\n",
       "    </tr>\n",
       "    <tr>\n",
       "      <th>298</th>\n",
       "      <td>Mercedes</td>\n",
       "      <td>SL -class</td>\n",
       "    </tr>\n",
       "    <tr>\n",
       "      <th>301</th>\n",
       "      <td>Mercedes</td>\n",
       "      <td>ML -class AMG</td>\n",
       "    </tr>\n",
       "    <tr>\n",
       "      <th>303</th>\n",
       "      <td>Mercedes</td>\n",
       "      <td>ML -class AMG</td>\n",
       "    </tr>\n",
       "    <tr>\n",
       "      <th>317</th>\n",
       "      <td>Mercedes</td>\n",
       "      <td>A -class</td>\n",
       "    </tr>\n",
       "    <tr>\n",
       "      <th>346</th>\n",
       "      <td>Mercedes</td>\n",
       "      <td>C -class AMG</td>\n",
       "    </tr>\n",
       "    <tr>\n",
       "      <th>365</th>\n",
       "      <td>Mercedes</td>\n",
       "      <td>A -class</td>\n",
       "    </tr>\n",
       "  </tbody>\n",
       "</table>\n",
       "</div>"
      ],
      "text/plain": [
       "       Marque         Modèle\n",
       "16   Mercedes       M -class\n",
       "17   Mercedes  ML -class AMG\n",
       "22   Mercedes       E -class\n",
       "38   Mercedes       C -class\n",
       "50   Mercedes       C -class\n",
       "84   Mercedes       A -class\n",
       "127  Mercedes  ML -class AMG\n",
       "155  Mercedes       C -class\n",
       "177  Mercedes       R -class\n",
       "201  Mercedes       C -class\n",
       "235  Mercedes       C -class\n",
       "245  Mercedes        B-class\n",
       "263  Mercedes      GL -class\n",
       "298  Mercedes      SL -class\n",
       "301  Mercedes  ML -class AMG\n",
       "303  Mercedes  ML -class AMG\n",
       "317  Mercedes       A -class\n",
       "346  Mercedes   C -class AMG\n",
       "365  Mercedes       A -class"
      ]
     },
     "execution_count": 252,
     "metadata": {},
     "output_type": "execute_result"
    }
   ],
   "source": [
    "df[['Marque','Modèle']][df.Marque == 'Mercedes']"
   ]
  },
  {
   "cell_type": "code",
   "execution_count": 253,
   "metadata": {
    "id": "og1wpsyXg7wC"
   },
   "outputs": [],
   "source": [
    "def Modele_rectification(row):\n",
    "    new = 'classe-'+row[0].strip().lower()\n",
    "    return new\n",
    "df['Modèle'][df.Marque=='Mercedes'] = df['Modèle'][df.Marque=='Mercedes'].apply(lambda row: Modele_rectification(row))"
   ]
  },
  {
   "cell_type": "code",
   "execution_count": 254,
   "metadata": {
    "colab": {
     "base_uri": "https://localhost:8080/",
     "height": 206
    },
    "id": "l-PTRJFVsjYY",
    "outputId": "e0010a9d-0734-4a94-c4e2-e84d2be96d5a"
   },
   "outputs": [
    {
     "data": {
      "text/html": [
       "<div>\n",
       "<style scoped>\n",
       "    .dataframe tbody tr th:only-of-type {\n",
       "        vertical-align: middle;\n",
       "    }\n",
       "\n",
       "    .dataframe tbody tr th {\n",
       "        vertical-align: top;\n",
       "    }\n",
       "\n",
       "    .dataframe thead th {\n",
       "        text-align: right;\n",
       "    }\n",
       "</style>\n",
       "<table border=\"1\" class=\"dataframe\">\n",
       "  <thead>\n",
       "    <tr style=\"text-align: right;\">\n",
       "      <th></th>\n",
       "      <th>price</th>\n",
       "      <th>Marque</th>\n",
       "      <th>Modèle</th>\n",
       "      <th>Transmission</th>\n",
       "      <th>Carburant</th>\n",
       "      <th>Année</th>\n",
       "      <th>Kilométrage</th>\n",
       "    </tr>\n",
       "  </thead>\n",
       "  <tbody>\n",
       "    <tr>\n",
       "      <th>0</th>\n",
       "      <td>37000</td>\n",
       "      <td>Peugeot</td>\n",
       "      <td>405</td>\n",
       "      <td>Manuelle</td>\n",
       "      <td>Diesel</td>\n",
       "      <td>31.0</td>\n",
       "      <td>NaN</td>\n",
       "    </tr>\n",
       "    <tr>\n",
       "      <th>1</th>\n",
       "      <td>47000</td>\n",
       "      <td>Kia</td>\n",
       "      <td>Carens</td>\n",
       "      <td>Automatique</td>\n",
       "      <td>Diesel</td>\n",
       "      <td>17.0</td>\n",
       "      <td>250000.0</td>\n",
       "    </tr>\n",
       "    <tr>\n",
       "      <th>2</th>\n",
       "      <td>130000</td>\n",
       "      <td>Renault</td>\n",
       "      <td>Fluence</td>\n",
       "      <td>Manuelle</td>\n",
       "      <td>Diesel</td>\n",
       "      <td>9.0</td>\n",
       "      <td>175000.0</td>\n",
       "    </tr>\n",
       "    <tr>\n",
       "      <th>3</th>\n",
       "      <td>58000</td>\n",
       "      <td>BMW</td>\n",
       "      <td>X5</td>\n",
       "      <td>Automatique</td>\n",
       "      <td>Diesel</td>\n",
       "      <td>18.0</td>\n",
       "      <td>385000.0</td>\n",
       "    </tr>\n",
       "    <tr>\n",
       "      <th>4</th>\n",
       "      <td>45000</td>\n",
       "      <td>Renault</td>\n",
       "      <td>Laguna</td>\n",
       "      <td>Manuelle</td>\n",
       "      <td>Diesel</td>\n",
       "      <td>23.0</td>\n",
       "      <td>NaN</td>\n",
       "    </tr>\n",
       "  </tbody>\n",
       "</table>\n",
       "</div>"
      ],
      "text/plain": [
       "    price   Marque   Modèle Transmission Carburant  Année  Kilométrage\n",
       "0   37000  Peugeot      405     Manuelle    Diesel   31.0          NaN\n",
       "1   47000      Kia   Carens  Automatique    Diesel   17.0     250000.0\n",
       "2  130000  Renault  Fluence     Manuelle    Diesel    9.0     175000.0\n",
       "3   58000      BMW       X5  Automatique    Diesel   18.0     385000.0\n",
       "4   45000  Renault   Laguna     Manuelle    Diesel   23.0          NaN"
      ]
     },
     "execution_count": 254,
     "metadata": {},
     "output_type": "execute_result"
    }
   ],
   "source": [
    "df.head()"
   ]
  },
  {
   "cell_type": "code",
   "execution_count": 24,
   "metadata": {
    "id": "9C3oBPAJtvuU"
   },
   "outputs": [],
   "source": [
    "def get_models(mark):\n",
    "    url = 'https://www.moteur.ma/fr/neuf/fiche-technique-prix/{}/'.format('-'.join(mark.split(' ')))\n",
    "    response = requests.get(url)\n",
    "    soup = BeautifulSoup(response.content,'html.parser')\n",
    "    models = [i.find('a')['href'].split('/')[-2] for i in soup.find_all('div',class_='title_mark_model')]\n",
    "    return models"
   ]
  },
  {
   "cell_type": "code",
   "execution_count": 25,
   "metadata": {
    "id": "Q8a01NNYuNUD"
   },
   "outputs": [],
   "source": [
    "def get_model_mean_price(marque,modele):\n",
    "    models = get_models(marque)\n",
    "    if modele.lower() in models:\n",
    "        modele = modele.lower()\n",
    "    else:\n",
    "        for m in  models:\n",
    "            if modele.lower() in m :\n",
    "                modele = m\n",
    "                break\n",
    "    url = 'https://www.moteur.ma/fr/neuf/fiche-technique-prix/{}/{}/'.format(marque,modele)\n",
    "    response = requests.get(url)\n",
    "    soup = BeautifulSoup(response.content,'html.parser')\n",
    "    try:\n",
    "        prices = np.array([int(re.findall(r'\\d+',i.text)[0])*1000 for i in soup.find_all('div',class_='list_price_new')])\n",
    "        return np.round(prices.mean())\n",
    "    except:\n",
    "        return np.nan\n",
    "\n"
   ]
  },
  {
   "cell_type": "code",
   "execution_count": 26,
   "metadata": {
    "id": "JTBbj9OHu9lW"
   },
   "outputs": [],
   "source": [
    "price = df[['Marque','Modèle']].apply(lambda row:get_model_mean_price(row['Marque'],row['Modèle']),axis=1)"
   ]
  },
  {
   "cell_type": "code",
   "execution_count": 255,
   "metadata": {
    "id": "jA4_UVf_nHXW"
   },
   "outputs": [],
   "source": [
    "df['new_price'] = price"
   ]
  },
  {
   "cell_type": "code",
   "execution_count": null,
   "metadata": {
    "colab": {
     "base_uri": "https://localhost:8080/",
     "height": 308
    },
    "id": "e-PvTbXlE9-2",
    "outputId": "9faaee16-db6c-4f92-a08d-9d776f8e3a26"
   },
   "outputs": [],
   "source": []
  },
  {
   "cell_type": "code",
   "execution_count": null,
   "metadata": {},
   "outputs": [],
   "source": []
  },
  {
   "cell_type": "markdown",
   "metadata": {
    "id": "mFBxMyOPocpX"
   },
   "source": [
    "\n",
    "# Missing Values"
   ]
  },
  {
   "cell_type": "code",
   "execution_count": 425,
   "metadata": {
    "colab": {
     "base_uri": "https://localhost:8080/"
    },
    "id": "HRpH6M6Bnlmr",
    "outputId": "fe6232db-383a-4fd3-fc28-bc20e40de463"
   },
   "outputs": [
    {
     "name": "stdout",
     "output_type": "stream",
     "text": [
      "<class 'pandas.core.frame.DataFrame'>\n",
      "Int64Index: 362 entries, 0 to 365\n",
      "Data columns (total 8 columns):\n",
      " #   Column        Non-Null Count  Dtype  \n",
      "---  ------        --------------  -----  \n",
      " 0   price         362 non-null    int64  \n",
      " 1   Marque        362 non-null    object \n",
      " 2   Modèle        362 non-null    object \n",
      " 3   Transmission  362 non-null    object \n",
      " 4   Carburant     362 non-null    object \n",
      " 5   Année         361 non-null    float64\n",
      " 6   Kilométrage   336 non-null    float64\n",
      " 7   new_price     362 non-null    float64\n",
      "dtypes: float64(3), int64(1), object(4)\n",
      "memory usage: 33.6+ KB\n"
     ]
    }
   ],
   "source": [
    "df.info()"
   ]
  },
  {
   "cell_type": "code",
   "execution_count": 257,
   "metadata": {
    "colab": {
     "base_uri": "https://localhost:8080/"
    },
    "id": "U0capID_ou6K",
    "outputId": "3a0e8591-6694-4c6b-e30a-c160970cdda4"
   },
   "outputs": [
    {
     "name": "stdout",
     "output_type": "stream",
     "text": [
      "missing values in Transmission:\n"
     ]
    },
    {
     "data": {
      "text/plain": [
       "False    351\n",
       "True      11\n",
       "Name: Transmission, dtype: int64"
      ]
     },
     "execution_count": 257,
     "metadata": {},
     "output_type": "execute_result"
    }
   ],
   "source": [
    "#missing values in Transmission\n",
    "print('missing values in Transmission:')\n",
    "df.Transmission.isnull().value_counts()"
   ]
  },
  {
   "cell_type": "code",
   "execution_count": 258,
   "metadata": {
    "colab": {
     "base_uri": "https://localhost:8080/"
    },
    "id": "RPfQb4OqpTuk",
    "outputId": "b8db1fd1-cfab-4122-fb74-f545218fb69b"
   },
   "outputs": [
    {
     "data": {
      "text/plain": [
       "Manuelle       276\n",
       "Automatique     75\n",
       "Name: Transmission, dtype: int64"
      ]
     },
     "execution_count": 258,
     "metadata": {},
     "output_type": "execute_result"
    }
   ],
   "source": [
    "df.Transmission.value_counts()"
   ]
  },
  {
   "cell_type": "code",
   "execution_count": 259,
   "metadata": {
    "id": "UDTd_zM0pY8E"
   },
   "outputs": [],
   "source": [
    "#let's assume that no one will forget or hide the fact that his car is (automatique)\n",
    "#so well fill nan values with the mode that is (manuelle)\n",
    "df.Transmission.fillna('Manuelle',inplace=True)"
   ]
  },
  {
   "cell_type": "code",
   "execution_count": 260,
   "metadata": {
    "colab": {
     "base_uri": "https://localhost:8080/"
    },
    "id": "4i-MQ2OTp6Jd",
    "outputId": "8ba8eea1-7b4e-4c19-8ae7-84e5f34bfb39"
   },
   "outputs": [
    {
     "name": "stdout",
     "output_type": "stream",
     "text": [
      "missing values in Carburant:\n"
     ]
    },
    {
     "data": {
      "text/plain": [
       "False    351\n",
       "True      11\n",
       "Name: Carburant, dtype: int64"
      ]
     },
     "execution_count": 260,
     "metadata": {},
     "output_type": "execute_result"
    }
   ],
   "source": [
    "#missing values in Carburant\n",
    "print('missing values in Carburant:')\n",
    "df.Carburant.isnull().value_counts()"
   ]
  },
  {
   "cell_type": "code",
   "execution_count": 261,
   "metadata": {
    "colab": {
     "base_uri": "https://localhost:8080/",
     "height": 394
    },
    "id": "bG_LSc4dqHHq",
    "outputId": "b214ec64-740b-4adc-db28-42cf46a905e9"
   },
   "outputs": [
    {
     "data": {
      "text/html": [
       "<div>\n",
       "<style scoped>\n",
       "    .dataframe tbody tr th:only-of-type {\n",
       "        vertical-align: middle;\n",
       "    }\n",
       "\n",
       "    .dataframe tbody tr th {\n",
       "        vertical-align: top;\n",
       "    }\n",
       "\n",
       "    .dataframe thead th {\n",
       "        text-align: right;\n",
       "    }\n",
       "</style>\n",
       "<table border=\"1\" class=\"dataframe\">\n",
       "  <thead>\n",
       "    <tr style=\"text-align: right;\">\n",
       "      <th></th>\n",
       "      <th>price</th>\n",
       "      <th>Marque</th>\n",
       "      <th>Modèle</th>\n",
       "      <th>Transmission</th>\n",
       "      <th>Carburant</th>\n",
       "      <th>Année</th>\n",
       "      <th>Kilométrage</th>\n",
       "      <th>new_price</th>\n",
       "    </tr>\n",
       "  </thead>\n",
       "  <tbody>\n",
       "    <tr>\n",
       "      <th>21</th>\n",
       "      <td>190000</td>\n",
       "      <td>Toyota</td>\n",
       "      <td>RAV4</td>\n",
       "      <td>Manuelle</td>\n",
       "      <td>NaN</td>\n",
       "      <td>5.0</td>\n",
       "      <td>92000.0</td>\n",
       "      <td>415333.0</td>\n",
       "    </tr>\n",
       "    <tr>\n",
       "      <th>65</th>\n",
       "      <td>65000</td>\n",
       "      <td>Peugeot</td>\n",
       "      <td>206</td>\n",
       "      <td>Manuelle</td>\n",
       "      <td>NaN</td>\n",
       "      <td>15.0</td>\n",
       "      <td>163.0</td>\n",
       "      <td>NaN</td>\n",
       "    </tr>\n",
       "    <tr>\n",
       "      <th>98</th>\n",
       "      <td>98000</td>\n",
       "      <td>Peugeot</td>\n",
       "      <td>208</td>\n",
       "      <td>Manuelle</td>\n",
       "      <td>NaN</td>\n",
       "      <td>6.0</td>\n",
       "      <td>51000.0</td>\n",
       "      <td>174000.0</td>\n",
       "    </tr>\n",
       "    <tr>\n",
       "      <th>128</th>\n",
       "      <td>200000</td>\n",
       "      <td>Volkswagen</td>\n",
       "      <td>Golf</td>\n",
       "      <td>Manuelle</td>\n",
       "      <td>NaN</td>\n",
       "      <td>5.0</td>\n",
       "      <td>90000.0</td>\n",
       "      <td>370000.0</td>\n",
       "    </tr>\n",
       "    <tr>\n",
       "      <th>173</th>\n",
       "      <td>80000</td>\n",
       "      <td>Volkswagen</td>\n",
       "      <td>Passat</td>\n",
       "      <td>Manuelle</td>\n",
       "      <td>NaN</td>\n",
       "      <td>17.0</td>\n",
       "      <td>145000.0</td>\n",
       "      <td>386667.0</td>\n",
       "    </tr>\n",
       "    <tr>\n",
       "      <th>183</th>\n",
       "      <td>25000</td>\n",
       "      <td>Fiat</td>\n",
       "      <td>Uno</td>\n",
       "      <td>Manuelle</td>\n",
       "      <td>NaN</td>\n",
       "      <td>21.0</td>\n",
       "      <td>150000.0</td>\n",
       "      <td>NaN</td>\n",
       "    </tr>\n",
       "    <tr>\n",
       "      <th>217</th>\n",
       "      <td>70000</td>\n",
       "      <td>Volkswagen</td>\n",
       "      <td>Passat</td>\n",
       "      <td>Manuelle</td>\n",
       "      <td>NaN</td>\n",
       "      <td>20.0</td>\n",
       "      <td>NaN</td>\n",
       "      <td>386667.0</td>\n",
       "    </tr>\n",
       "    <tr>\n",
       "      <th>295</th>\n",
       "      <td>165000</td>\n",
       "      <td>Honda</td>\n",
       "      <td>CR-V</td>\n",
       "      <td>Manuelle</td>\n",
       "      <td>NaN</td>\n",
       "      <td>8.0</td>\n",
       "      <td>NaN</td>\n",
       "      <td>399000.0</td>\n",
       "    </tr>\n",
       "    <tr>\n",
       "      <th>300</th>\n",
       "      <td>129000</td>\n",
       "      <td>Dacia</td>\n",
       "      <td>Duster</td>\n",
       "      <td>Manuelle</td>\n",
       "      <td>NaN</td>\n",
       "      <td>7.0</td>\n",
       "      <td>61000.0</td>\n",
       "      <td>210250.0</td>\n",
       "    </tr>\n",
       "    <tr>\n",
       "      <th>307</th>\n",
       "      <td>105000</td>\n",
       "      <td>Volkswagen</td>\n",
       "      <td>Polo</td>\n",
       "      <td>Manuelle</td>\n",
       "      <td>NaN</td>\n",
       "      <td>10.0</td>\n",
       "      <td>57000.0</td>\n",
       "      <td>188667.0</td>\n",
       "    </tr>\n",
       "    <tr>\n",
       "      <th>344</th>\n",
       "      <td>52000</td>\n",
       "      <td>Chevrolet</td>\n",
       "      <td>Spark</td>\n",
       "      <td>Manuelle</td>\n",
       "      <td>NaN</td>\n",
       "      <td>NaN</td>\n",
       "      <td>2011.0</td>\n",
       "      <td>99000.0</td>\n",
       "    </tr>\n",
       "  </tbody>\n",
       "</table>\n",
       "</div>"
      ],
      "text/plain": [
       "      price      Marque  Modèle Transmission Carburant  Année  Kilométrage  \\\n",
       "21   190000      Toyota    RAV4     Manuelle       NaN    5.0      92000.0   \n",
       "65    65000     Peugeot     206     Manuelle       NaN   15.0        163.0   \n",
       "98    98000     Peugeot     208     Manuelle       NaN    6.0      51000.0   \n",
       "128  200000  Volkswagen    Golf     Manuelle       NaN    5.0      90000.0   \n",
       "173   80000  Volkswagen  Passat     Manuelle       NaN   17.0     145000.0   \n",
       "183   25000        Fiat     Uno     Manuelle       NaN   21.0     150000.0   \n",
       "217   70000  Volkswagen  Passat     Manuelle       NaN   20.0          NaN   \n",
       "295  165000       Honda    CR-V     Manuelle       NaN    8.0          NaN   \n",
       "300  129000       Dacia  Duster     Manuelle       NaN    7.0      61000.0   \n",
       "307  105000  Volkswagen    Polo     Manuelle       NaN   10.0      57000.0   \n",
       "344   52000   Chevrolet   Spark     Manuelle       NaN    NaN       2011.0   \n",
       "\n",
       "     new_price  \n",
       "21    415333.0  \n",
       "65         NaN  \n",
       "98    174000.0  \n",
       "128   370000.0  \n",
       "173   386667.0  \n",
       "183        NaN  \n",
       "217   386667.0  \n",
       "295   399000.0  \n",
       "300   210250.0  \n",
       "307   188667.0  \n",
       "344    99000.0  "
      ]
     },
     "execution_count": 261,
     "metadata": {},
     "output_type": "execute_result"
    }
   ],
   "source": [
    "#why they have the same number of missing values\n",
    "df[df.Carburant.isnull()]"
   ]
  },
  {
   "cell_type": "code",
   "execution_count": 262,
   "metadata": {
    "colab": {
     "base_uri": "https://localhost:8080/"
    },
    "id": "Hx0fH2wVqaCK",
    "outputId": "2e52273f-27cf-4ab3-a7bc-20a502dcb353"
   },
   "outputs": [
    {
     "data": {
      "text/plain": [
       "Diesel     271\n",
       "Essence     80\n",
       "Name: Carburant, dtype: int64"
      ]
     },
     "execution_count": 262,
     "metadata": {},
     "output_type": "execute_result"
    }
   ],
   "source": [
    "# that was only a coincidence\n",
    "df.Carburant.value_counts()"
   ]
  },
  {
   "cell_type": "code",
   "execution_count": 263,
   "metadata": {
    "id": "TpVC6Wk_qzC0"
   },
   "outputs": [],
   "source": [
    "# fill also with the mode\n",
    "df.Carburant.fillna('Diesel',inplace=True)"
   ]
  },
  {
   "cell_type": "code",
   "execution_count": 264,
   "metadata": {
    "colab": {
     "base_uri": "https://localhost:8080/"
    },
    "id": "RLWiq1e3rIL8",
    "outputId": "96ec03c7-ea16-47cc-8b08-8a03e9185425"
   },
   "outputs": [
    {
     "name": "stdout",
     "output_type": "stream",
     "text": [
      "missing values in new price:\n"
     ]
    },
    {
     "data": {
      "text/plain": [
       "False    243\n",
       "True     119\n",
       "Name: new_price, dtype: int64"
      ]
     },
     "execution_count": 264,
     "metadata": {},
     "output_type": "execute_result"
    }
   ],
   "source": [
    "#missing values in new price\n",
    "print('missing values in new price:')\n",
    "df.new_price.isnull().value_counts()"
   ]
  },
  {
   "cell_type": "code",
   "execution_count": 265,
   "metadata": {
    "id": "W22_5WpJrSkT"
   },
   "outputs": [],
   "source": [
    "#of course there is alot of missiness in this variable because we couldn't find all cars prices in moteur.ma website.\n",
    "#so let's fill them \n"
   ]
  },
  {
   "cell_type": "code",
   "execution_count": null,
   "metadata": {},
   "outputs": [],
   "source": []
  },
  {
   "cell_type": "code",
   "execution_count": 266,
   "metadata": {
    "id": "9PiE8XrWsn0C"
   },
   "outputs": [],
   "source": [
    "#i will use the mean\n",
    "map = dict(df.groupby(['Marque'])['price'].agg('mean'))\n",
    "def fill_new_price(marque,new_price):\n",
    "    if np.isnan(new_price):\n",
    "        return map[marque]\n",
    "    return new_price\n",
    "df.new_price = df.apply(lambda row:fill_new_price(row['Marque'],row['new_price']),axis=1)"
   ]
  },
  {
   "cell_type": "code",
   "execution_count": 267,
   "metadata": {
    "colab": {
     "base_uri": "https://localhost:8080/"
    },
    "id": "2WiXqXewxhF4",
    "outputId": "44355a22-0e0a-4a53-dba7-7d551050c3c8"
   },
   "outputs": [
    {
     "data": {
      "text/plain": [
       "320"
      ]
     },
     "execution_count": 267,
     "metadata": {},
     "output_type": "execute_result"
    }
   ],
   "source": [
    "(df['new_price']>df['price']).sum()"
   ]
  },
  {
   "cell_type": "code",
   "execution_count": 61,
   "metadata": {},
   "outputs": [],
   "source": [
    "# tryin to make new_price bigger than price\n",
    "def new_price_rectification(price,new_price):\n",
    "    \n",
    "    if  new_price > price:\n",
    "    \n",
    "        return new_price\n",
    "    \n",
    "    elif new_price <= price : \n",
    "        \n",
    "        return 1.14*new_price\n",
    "    \n"
   ]
  },
  {
   "cell_type": "code",
   "execution_count": 62,
   "metadata": {},
   "outputs": [],
   "source": [
    "df.new_price = df.apply(lambda row:new_price_rectification(row['price'],row['new_price']),axis=1)"
   ]
  },
  {
   "cell_type": "code",
   "execution_count": 64,
   "metadata": {},
   "outputs": [
    {
     "data": {
      "text/plain": [
       "333"
      ]
     },
     "execution_count": 64,
     "metadata": {},
     "output_type": "execute_result"
    }
   ],
   "source": [
    "(df['new_price']>df['price']).sum()"
   ]
  },
  {
   "cell_type": "code",
   "execution_count": 65,
   "metadata": {
    "id": "nxAn8vhZyJoi"
   },
   "outputs": [],
   "source": []
  },
  {
   "cell_type": "code",
   "execution_count": 66,
   "metadata": {
    "id": "9EqLJNGGu82T"
   },
   "outputs": [],
   "source": [
    "df.Année.fillna(df.Année.median(),inplace=True)\n",
    "df.Kilométrage.fillna(df.Kilométrage.median(),inplace=True)"
   ]
  },
  {
   "cell_type": "code",
   "execution_count": 67,
   "metadata": {
    "colab": {
     "base_uri": "https://localhost:8080/"
    },
    "id": "98Tm8q-2vmGx",
    "outputId": "fb50b691-3b2f-486a-d0c8-19f96002cc21"
   },
   "outputs": [
    {
     "name": "stdout",
     "output_type": "stream",
     "text": [
      "<class 'pandas.core.frame.DataFrame'>\n",
      "Int64Index: 362 entries, 0 to 365\n",
      "Data columns (total 8 columns):\n",
      " #   Column        Non-Null Count  Dtype  \n",
      "---  ------        --------------  -----  \n",
      " 0   price         362 non-null    int64  \n",
      " 1   Marque        362 non-null    object \n",
      " 2   Modèle        362 non-null    object \n",
      " 3   Transmission  362 non-null    object \n",
      " 4   Carburant     362 non-null    object \n",
      " 5   Année         362 non-null    float64\n",
      " 6   Kilométrage   362 non-null    float64\n",
      " 7   new_price     362 non-null    float64\n",
      "dtypes: float64(3), int64(1), object(4)\n",
      "memory usage: 25.5+ KB\n"
     ]
    }
   ],
   "source": [
    "df.info()"
   ]
  },
  {
   "cell_type": "markdown",
   "metadata": {},
   "source": [
    "# Data Visualisation"
   ]
  },
  {
   "cell_type": "code",
   "execution_count": null,
   "metadata": {
    "id": "RFJ2NYXpJHz4"
   },
   "outputs": [],
   "source": []
  },
  {
   "cell_type": "code",
   "execution_count": 68,
   "metadata": {
    "colab": {
     "base_uri": "https://localhost:8080/",
     "height": 307
    },
    "id": "in9QrVYyJIYh",
    "outputId": "5a6206d5-74cc-48dc-e26b-a64e8a747e20"
   },
   "outputs": [
    {
     "data": {
      "text/plain": [
       "<AxesSubplot:ylabel='Density'>"
      ]
     },
     "execution_count": 68,
     "metadata": {},
     "output_type": "execute_result"
    },
    {
     "data": {
      "image/png": "[encoded data removed]",
      "text/plain": [
       "<Figure size 432x288 with 1 Axes>"
      ]
     },
     "metadata": {
      "needs_background": "light"
     },
     "output_type": "display_data"
    }
   ],
   "source": [
    "import seaborn as sns\n",
    "sns.distplot(df['new_price']-df['price'])"
   ]
  },
  {
   "cell_type": "code",
   "execution_count": 69,
   "metadata": {
    "colab": {
     "base_uri": "https://localhost:8080/",
     "height": 308
    },
    "id": "ZrI5C3O-JIYi",
    "outputId": "2f5c6452-8c8b-4ed1-d21e-f237a564fc53"
   },
   "outputs": [
    {
     "data": {
      "text/plain": [
       "<AxesSubplot:xlabel='price', ylabel='Density'>"
      ]
     },
     "execution_count": 69,
     "metadata": {},
     "output_type": "execute_result"
    },
    {
     "data": {
      "image/png": "[encoded data removed]",
      "text/plain": [
       "<Figure size 432x288 with 1 Axes>"
      ]
     },
     "metadata": {
      "needs_background": "light"
     },
     "output_type": "display_data"
    }
   ],
   "source": [
    "\n",
    "sns.distplot(df['new_price'])\n",
    "sns.distplot(df['price'])"
   ]
  },
  {
   "cell_type": "code",
   "execution_count": 70,
   "metadata": {
    "colab": {
     "base_uri": "https://localhost:8080/",
     "height": 296
    },
    "id": "AeXAVfK1JIYi",
    "outputId": "237a5650-da4b-4475-8796-c2dfd6eac8dc"
   },
   "outputs": [
    {
     "data": {
      "text/plain": [
       "<matplotlib.collections.PathCollection at 0x1c915bd6c70>"
      ]
     },
     "execution_count": 70,
     "metadata": {},
     "output_type": "execute_result"
    },
    {
     "data": {
      "image/png": "[encoded data removed]",
      "text/plain": [
       "<Figure size 432x288 with 1 Axes>"
      ]
     },
     "metadata": {
      "needs_background": "light"
     },
     "output_type": "display_data"
    }
   ],
   "source": [
    "plt.scatter(df['price'],df['new_price'])"
   ]
  },
  {
   "cell_type": "code",
   "execution_count": 71,
   "metadata": {},
   "outputs": [
    {
     "data": {
      "text/plain": [
       "<AxesSubplot:xlabel='Année', ylabel='Density'>"
      ]
     },
     "execution_count": 71,
     "metadata": {},
     "output_type": "execute_result"
    },
    {
     "data": {
      "image/png": "[encoded data removed]",
      "text/plain": [
       "<Figure size 432x288 with 1 Axes>"
      ]
     },
     "metadata": {
      "needs_background": "light"
     },
     "output_type": "display_data"
    }
   ],
   "source": [
    "sns.distplot(df['Année'])"
   ]
  },
  {
   "cell_type": "code",
   "execution_count": 72,
   "metadata": {},
   "outputs": [
    {
     "data": {
      "text/plain": [
       "<AxesSubplot:xlabel='Kilométrage', ylabel='Density'>"
      ]
     },
     "execution_count": 72,
     "metadata": {},
     "output_type": "execute_result"
    },
    {
     "data": {
      "image/png": "[encoded data removed]",
      "text/plain": [
       "<Figure size 432x288 with 1 Axes>"
      ]
     },
     "metadata": {
      "needs_background": "light"
     },
     "output_type": "display_data"
    }
   ],
   "source": [
    "sns.distplot(df['Kilométrage'])"
   ]
  },
  {
   "cell_type": "markdown",
   "metadata": {
    "id": "FSqQkyoJvmkv"
   },
   "source": [
    "\n",
    "# One Hot Encoding"
   ]
  },
  {
   "cell_type": "code",
   "execution_count": 73,
   "metadata": {
    "id": "6NHFe07uTmq2"
   },
   "outputs": [],
   "source": [
    "df.drop(columns=['Marque','Modèle'],inplace=True)\n",
    "df = pd.get_dummies(df,drop_first=True)"
   ]
  },
  {
   "cell_type": "code",
   "execution_count": 74,
   "metadata": {
    "colab": {
     "base_uri": "https://localhost:8080/",
     "height": 206
    },
    "id": "WeoQGulhO2JE",
    "outputId": "f6b326ca-5b2f-4492-d571-b26774c61e50"
   },
   "outputs": [
    {
     "data": {
      "text/html": [
       "<div>\n",
       "<style scoped>\n",
       "    .dataframe tbody tr th:only-of-type {\n",
       "        vertical-align: middle;\n",
       "    }\n",
       "\n",
       "    .dataframe tbody tr th {\n",
       "        vertical-align: top;\n",
       "    }\n",
       "\n",
       "    .dataframe thead th {\n",
       "        text-align: right;\n",
       "    }\n",
       "</style>\n",
       "<table border=\"1\" class=\"dataframe\">\n",
       "  <thead>\n",
       "    <tr style=\"text-align: right;\">\n",
       "      <th></th>\n",
       "      <th>price</th>\n",
       "      <th>Année</th>\n",
       "      <th>Kilométrage</th>\n",
       "      <th>new_price</th>\n",
       "      <th>Transmission_Manuelle</th>\n",
       "      <th>Carburant_Essence</th>\n",
       "    </tr>\n",
       "  </thead>\n",
       "  <tbody>\n",
       "    <tr>\n",
       "      <th>0</th>\n",
       "      <td>37000</td>\n",
       "      <td>31.0</td>\n",
       "      <td>130650.0</td>\n",
       "      <td>72513.513514</td>\n",
       "      <td>1</td>\n",
       "      <td>0</td>\n",
       "    </tr>\n",
       "    <tr>\n",
       "      <th>1</th>\n",
       "      <td>47000</td>\n",
       "      <td>17.0</td>\n",
       "      <td>250000.0</td>\n",
       "      <td>309800.000000</td>\n",
       "      <td>0</td>\n",
       "      <td>0</td>\n",
       "    </tr>\n",
       "    <tr>\n",
       "      <th>2</th>\n",
       "      <td>130000</td>\n",
       "      <td>9.0</td>\n",
       "      <td>175000.0</td>\n",
       "      <td>104171.438182</td>\n",
       "      <td>1</td>\n",
       "      <td>0</td>\n",
       "    </tr>\n",
       "    <tr>\n",
       "      <th>3</th>\n",
       "      <td>58000</td>\n",
       "      <td>18.0</td>\n",
       "      <td>385000.0</td>\n",
       "      <td>851400.000000</td>\n",
       "      <td>0</td>\n",
       "      <td>0</td>\n",
       "    </tr>\n",
       "    <tr>\n",
       "      <th>4</th>\n",
       "      <td>45000</td>\n",
       "      <td>23.0</td>\n",
       "      <td>130650.0</td>\n",
       "      <td>91378.454545</td>\n",
       "      <td>1</td>\n",
       "      <td>0</td>\n",
       "    </tr>\n",
       "  </tbody>\n",
       "</table>\n",
       "</div>"
      ],
      "text/plain": [
       "    price  Année  Kilométrage      new_price  Transmission_Manuelle  \\\n",
       "0   37000   31.0     130650.0   72513.513514                      1   \n",
       "1   47000   17.0     250000.0  309800.000000                      0   \n",
       "2  130000    9.0     175000.0  104171.438182                      1   \n",
       "3   58000   18.0     385000.0  851400.000000                      0   \n",
       "4   45000   23.0     130650.0   91378.454545                      1   \n",
       "\n",
       "   Carburant_Essence  \n",
       "0                  0  \n",
       "1                  0  \n",
       "2                  0  \n",
       "3                  0  \n",
       "4                  0  "
      ]
     },
     "execution_count": 74,
     "metadata": {},
     "output_type": "execute_result"
    }
   ],
   "source": [
    "df.head()"
   ]
  },
  {
   "cell_type": "code",
   "execution_count": 75,
   "metadata": {
    "colab": {
     "base_uri": "https://localhost:8080/",
     "height": 237
    },
    "id": "PdELPlorSdf2",
    "outputId": "960a2572-36c2-4dfa-a56b-69c8b6d0691e"
   },
   "outputs": [
    {
     "data": {
      "text/html": [
       "<div>\n",
       "<style scoped>\n",
       "    .dataframe tbody tr th:only-of-type {\n",
       "        vertical-align: middle;\n",
       "    }\n",
       "\n",
       "    .dataframe tbody tr th {\n",
       "        vertical-align: top;\n",
       "    }\n",
       "\n",
       "    .dataframe thead th {\n",
       "        text-align: right;\n",
       "    }\n",
       "</style>\n",
       "<table border=\"1\" class=\"dataframe\">\n",
       "  <thead>\n",
       "    <tr style=\"text-align: right;\">\n",
       "      <th></th>\n",
       "      <th>price</th>\n",
       "      <th>Année</th>\n",
       "      <th>Kilométrage</th>\n",
       "      <th>new_price</th>\n",
       "      <th>Transmission_Manuelle</th>\n",
       "      <th>Carburant_Essence</th>\n",
       "    </tr>\n",
       "  </thead>\n",
       "  <tbody>\n",
       "    <tr>\n",
       "      <th>price</th>\n",
       "      <td>1.000000</td>\n",
       "      <td>-0.471265</td>\n",
       "      <td>-0.226455</td>\n",
       "      <td>0.377612</td>\n",
       "      <td>-0.389351</td>\n",
       "      <td>-0.237325</td>\n",
       "    </tr>\n",
       "    <tr>\n",
       "      <th>Année</th>\n",
       "      <td>-0.471265</td>\n",
       "      <td>1.000000</td>\n",
       "      <td>0.520742</td>\n",
       "      <td>-0.134873</td>\n",
       "      <td>0.173435</td>\n",
       "      <td>0.111770</td>\n",
       "    </tr>\n",
       "    <tr>\n",
       "      <th>Kilométrage</th>\n",
       "      <td>-0.226455</td>\n",
       "      <td>0.520742</td>\n",
       "      <td>1.000000</td>\n",
       "      <td>0.034552</td>\n",
       "      <td>0.003114</td>\n",
       "      <td>-0.036803</td>\n",
       "    </tr>\n",
       "    <tr>\n",
       "      <th>new_price</th>\n",
       "      <td>0.377612</td>\n",
       "      <td>-0.134873</td>\n",
       "      <td>0.034552</td>\n",
       "      <td>1.000000</td>\n",
       "      <td>-0.461725</td>\n",
       "      <td>-0.148275</td>\n",
       "    </tr>\n",
       "    <tr>\n",
       "      <th>Transmission_Manuelle</th>\n",
       "      <td>-0.389351</td>\n",
       "      <td>0.173435</td>\n",
       "      <td>0.003114</td>\n",
       "      <td>-0.461725</td>\n",
       "      <td>1.000000</td>\n",
       "      <td>0.058721</td>\n",
       "    </tr>\n",
       "    <tr>\n",
       "      <th>Carburant_Essence</th>\n",
       "      <td>-0.237325</td>\n",
       "      <td>0.111770</td>\n",
       "      <td>-0.036803</td>\n",
       "      <td>-0.148275</td>\n",
       "      <td>0.058721</td>\n",
       "      <td>1.000000</td>\n",
       "    </tr>\n",
       "  </tbody>\n",
       "</table>\n",
       "</div>"
      ],
      "text/plain": [
       "                          price     Année  Kilométrage  new_price  \\\n",
       "price                  1.000000 -0.471265    -0.226455   0.377612   \n",
       "Année                 -0.471265  1.000000     0.520742  -0.134873   \n",
       "Kilométrage           -0.226455  0.520742     1.000000   0.034552   \n",
       "new_price              0.377612 -0.134873     0.034552   1.000000   \n",
       "Transmission_Manuelle -0.389351  0.173435     0.003114  -0.461725   \n",
       "Carburant_Essence     -0.237325  0.111770    -0.036803  -0.148275   \n",
       "\n",
       "                       Transmission_Manuelle  Carburant_Essence  \n",
       "price                              -0.389351          -0.237325  \n",
       "Année                               0.173435           0.111770  \n",
       "Kilométrage                         0.003114          -0.036803  \n",
       "new_price                          -0.461725          -0.148275  \n",
       "Transmission_Manuelle               1.000000           0.058721  \n",
       "Carburant_Essence                   0.058721           1.000000  "
      ]
     },
     "execution_count": 75,
     "metadata": {},
     "output_type": "execute_result"
    }
   ],
   "source": [
    "df.corr()"
   ]
  },
  {
   "cell_type": "markdown",
   "metadata": {
    "id": "9qRHmIaE24zl"
   },
   "source": [
    "# Correlations "
   ]
  },
  {
   "cell_type": "code",
   "execution_count": 202,
   "metadata": {
    "id": "iO9siQ4B1OxG"
   },
   "outputs": [],
   "source": [
    "import seaborn as sns"
   ]
  },
  {
   "cell_type": "code",
   "execution_count": 203,
   "metadata": {
    "colab": {
     "base_uri": "https://localhost:8080/",
     "height": 1000
    },
    "id": "kgcZzJmp1eRO",
    "outputId": "b893dc3c-fc2f-49d2-f00b-1e8316f50cc5"
   },
   "outputs": [
    {
     "data": {
      "text/plain": [
       "<seaborn.axisgrid.PairGrid at 0x1c91b503370>"
      ]
     },
     "execution_count": 203,
     "metadata": {},
     "output_type": "execute_result"
    },
    {
     "data": {
      "image/png": "[encoded data removed]",
      "text/plain": [
       "<Figure size 1080x1080 with 42 Axes>"
      ]
     },
     "metadata": {
      "needs_background": "light"
     },
     "output_type": "display_data"
    }
   ],
   "source": [
    "sns.pairplot(df)"
   ]
  },
  {
   "cell_type": "code",
   "execution_count": 204,
   "metadata": {
    "colab": {
     "base_uri": "https://localhost:8080/",
     "height": 1000
    },
    "id": "xI4wqwMp2JS9",
    "outputId": "1672c57a-8ed9-410f-8831-444fea44440a"
   },
   "outputs": [
    {
     "data": {
      "image/png": "[encoded data removed]",
      "text/plain": [
       "<Figure size 1440x1440 with 2 Axes>"
      ]
     },
     "metadata": {
      "needs_background": "light"
     },
     "output_type": "display_data"
    }
   ],
   "source": [
    "#get correlations of each features in dataset\n",
    "corrmat = df.corr()\n",
    "top_corr_features = corrmat.index\n",
    "plt.figure(figsize=(20,20))\n",
    "#plot heat map\n",
    "g=sns.heatmap(df[top_corr_features].corr(),annot=True,cmap=\"RdYlGn\")"
   ]
  },
  {
   "cell_type": "markdown",
   "metadata": {},
   "source": [
    "# Feature Importance"
   ]
  },
  {
   "cell_type": "code",
   "execution_count": 138,
   "metadata": {
    "id": "TtRosOPZ8do_"
   },
   "outputs": [],
   "source": [
    "X = df.iloc[:,1:]\n",
    "y = df.iloc[:,0]"
   ]
  },
  {
   "cell_type": "code",
   "execution_count": 139,
   "metadata": {
    "colab": {
     "base_uri": "https://localhost:8080/"
    },
    "id": "KBf02KcU8rN4",
    "outputId": "172ab773-14fa-4268-f9cf-4e6eef109907"
   },
   "outputs": [
    {
     "data": {
      "text/plain": [
       "0       37000\n",
       "1       47000\n",
       "2      130000\n",
       "3       58000\n",
       "4       45000\n",
       "        ...  \n",
       "361    130000\n",
       "362    179000\n",
       "363    340000\n",
       "364    158000\n",
       "365    280000\n",
       "Name: price, Length: 362, dtype: int64"
      ]
     },
     "execution_count": 139,
     "metadata": {},
     "output_type": "execute_result"
    }
   ],
   "source": [
    "y"
   ]
  },
  {
   "cell_type": "code",
   "execution_count": 140,
   "metadata": {
    "colab": {
     "base_uri": "https://localhost:8080/"
    },
    "id": "8fPeW0Kx8-f1",
    "outputId": "32fcce78-5630-466f-8bbb-636e413ea0f7"
   },
   "outputs": [
    {
     "data": {
      "text/plain": [
       "ExtraTreesRegressor()"
      ]
     },
     "execution_count": 140,
     "metadata": {},
     "output_type": "execute_result"
    }
   ],
   "source": [
    "### Feature Importance\n",
    "\n",
    "from sklearn.ensemble import ExtraTreesRegressor\n",
    "import matplotlib.pyplot as plt\n",
    "model = ExtraTreesRegressor()\n",
    "model.fit(X,y)\n"
   ]
  },
  {
   "cell_type": "code",
   "execution_count": 141,
   "metadata": {
    "colab": {
     "base_uri": "https://localhost:8080/",
     "height": 206
    },
    "id": "0VboW3fw9JAG",
    "outputId": "dfc5fa99-cbb1-4d0f-c6ab-79f24f3bc11d"
   },
   "outputs": [
    {
     "data": {
      "text/html": [
       "<div>\n",
       "<style scoped>\n",
       "    .dataframe tbody tr th:only-of-type {\n",
       "        vertical-align: middle;\n",
       "    }\n",
       "\n",
       "    .dataframe tbody tr th {\n",
       "        vertical-align: top;\n",
       "    }\n",
       "\n",
       "    .dataframe thead th {\n",
       "        text-align: right;\n",
       "    }\n",
       "</style>\n",
       "<table border=\"1\" class=\"dataframe\">\n",
       "  <thead>\n",
       "    <tr style=\"text-align: right;\">\n",
       "      <th></th>\n",
       "      <th>Année</th>\n",
       "      <th>Kilométrage</th>\n",
       "      <th>new_price</th>\n",
       "      <th>Transmission_Manuelle</th>\n",
       "      <th>Carburant_Essence</th>\n",
       "    </tr>\n",
       "  </thead>\n",
       "  <tbody>\n",
       "    <tr>\n",
       "      <th>0</th>\n",
       "      <td>31.0</td>\n",
       "      <td>130650.0</td>\n",
       "      <td>72513.513514</td>\n",
       "      <td>1</td>\n",
       "      <td>0</td>\n",
       "    </tr>\n",
       "    <tr>\n",
       "      <th>1</th>\n",
       "      <td>17.0</td>\n",
       "      <td>250000.0</td>\n",
       "      <td>309800.000000</td>\n",
       "      <td>0</td>\n",
       "      <td>0</td>\n",
       "    </tr>\n",
       "    <tr>\n",
       "      <th>2</th>\n",
       "      <td>9.0</td>\n",
       "      <td>175000.0</td>\n",
       "      <td>104171.438182</td>\n",
       "      <td>1</td>\n",
       "      <td>0</td>\n",
       "    </tr>\n",
       "    <tr>\n",
       "      <th>3</th>\n",
       "      <td>18.0</td>\n",
       "      <td>385000.0</td>\n",
       "      <td>851400.000000</td>\n",
       "      <td>0</td>\n",
       "      <td>0</td>\n",
       "    </tr>\n",
       "    <tr>\n",
       "      <th>4</th>\n",
       "      <td>23.0</td>\n",
       "      <td>130650.0</td>\n",
       "      <td>91378.454545</td>\n",
       "      <td>1</td>\n",
       "      <td>0</td>\n",
       "    </tr>\n",
       "  </tbody>\n",
       "</table>\n",
       "</div>"
      ],
      "text/plain": [
       "   Année  Kilométrage      new_price  Transmission_Manuelle  Carburant_Essence\n",
       "0   31.0     130650.0   72513.513514                      1                  0\n",
       "1   17.0     250000.0  309800.000000                      0                  0\n",
       "2    9.0     175000.0  104171.438182                      1                  0\n",
       "3   18.0     385000.0  851400.000000                      0                  0\n",
       "4   23.0     130650.0   91378.454545                      1                  0"
      ]
     },
     "execution_count": 141,
     "metadata": {},
     "output_type": "execute_result"
    }
   ],
   "source": [
    "X.head()"
   ]
  },
  {
   "cell_type": "code",
   "execution_count": 142,
   "metadata": {
    "colab": {
     "base_uri": "https://localhost:8080/"
    },
    "id": "bPRu1Yp78-o-",
    "outputId": "6de2be64-0323-472c-b942-19e62c497d25"
   },
   "outputs": [
    {
     "name": "stdout",
     "output_type": "stream",
     "text": [
      "[0.28755994 0.21587684 0.29686867 0.15183965 0.04785489]\n"
     ]
    }
   ],
   "source": [
    "print(model.feature_importances_)"
   ]
  },
  {
   "cell_type": "code",
   "execution_count": 143,
   "metadata": {
    "colab": {
     "base_uri": "https://localhost:8080/",
     "height": 265
    },
    "id": "r8raPEZq8-tG",
    "outputId": "a0961bb9-f5ef-4c87-a304-6210da1ad9e8"
   },
   "outputs": [
    {
     "data": {
      "image/png": "[encoded data removed]",
      "text/plain": [
       "<Figure size 432x288 with 1 Axes>"
      ]
     },
     "metadata": {
      "needs_background": "light"
     },
     "output_type": "display_data"
    }
   ],
   "source": [
    "#visualization of feature importances  \n",
    "feat_importances = pd.Series(model.feature_importances_, index=X.columns)\n",
    "feat_importances.nlargest(5).plot(kind='barh')\n",
    "plt.show()"
   ]
  },
  {
   "cell_type": "code",
   "execution_count": null,
   "metadata": {},
   "outputs": [],
   "source": [
    "# logic results"
   ]
  },
  {
   "cell_type": "markdown",
   "metadata": {},
   "source": [
    "# Model Building & Fine Tuning\n"
   ]
  },
  {
   "cell_type": "code",
   "execution_count": 27,
   "metadata": {
    "id": "kM9XCVfP_NrD"
   },
   "outputs": [],
   "source": [
    "#scaling data\n",
    "#from sklearn.preprocessing import StandardScaler\n",
    "#scaler = StandardScaler()\n",
    "# transform data\n",
    "#df[['price','Année','new_price','Kilométrage']] = scaler.fit_transform(df[['price','Année','new_price','Kilométrage']])\n"
   ]
  },
  {
   "cell_type": "code",
   "execution_count": 170,
   "metadata": {
    "id": "CTFQ8FJm8-xL"
   },
   "outputs": [],
   "source": [
    "#split data\n",
    "from sklearn.model_selection import train_test_split\n",
    "X_train, X_test, y_train, y_test = train_test_split(X, y, \n",
    "                                                    test_size=0.3,\n",
    "                                                   )#random_state=0)"
   ]
  },
  {
   "cell_type": "code",
   "execution_count": 171,
   "metadata": {
    "colab": {
     "base_uri": "https://localhost:8080/"
    },
    "id": "-ndHKumU9Xxj",
    "outputId": "cb893174-84c2-4d0f-942c-3ab5fd18eabc"
   },
   "outputs": [
    {
     "name": "stdout",
     "output_type": "stream",
     "text": [
      "[100, 200, 300, 400, 500, 600, 700, 800, 900, 1000, 1100, 1200]\n"
     ]
    }
   ],
   "source": [
    "\n",
    "from sklearn.ensemble import RandomForestRegressor\n",
    "regressor=RandomForestRegressor()\n",
    "n_estimators = [int(x) for x in np.linspace(start = 100, stop = 1200, num = 12)]\n",
    "print(n_estimators)\n"
   ]
  },
  {
   "cell_type": "code",
   "execution_count": 172,
   "metadata": {
    "id": "qO8y9BHH9X29"
   },
   "outputs": [],
   "source": [
    "from sklearn.model_selection import RandomizedSearchCV\n"
   ]
  },
  {
   "cell_type": "code",
   "execution_count": 173,
   "metadata": {
    "id": "DRV11h789X82"
   },
   "outputs": [],
   "source": [
    " #Randomized Search CV\n",
    "\n",
    "# Number of trees in random forest\n",
    "n_estimators = [int(x) for x in np.linspace(start = 100, stop = 1200, num = 12)]\n",
    "# Number of features to consider at every split\n",
    "max_features = ['auto', 'sqrt']\n",
    "# Maximum number of levels in tree\n",
    "max_depth = [int(x) for x in np.linspace(5, 30, num = 6)]\n",
    "\n",
    "# Minimum number of samples required to split a node\n",
    "min_samples_split = [2, 5, 10, 15, 100]\n",
    "# Minimum number of samples required at each leaf node\n",
    "min_samples_leaf = [1, 2, 5, 10]"
   ]
  },
  {
   "cell_type": "code",
   "execution_count": 174,
   "metadata": {
    "colab": {
     "base_uri": "https://localhost:8080/"
    },
    "id": "ihWqCztw9YCj",
    "outputId": "8539ca08-ade9-48d7-91e5-6b173195b28b"
   },
   "outputs": [
    {
     "name": "stdout",
     "output_type": "stream",
     "text": [
      "{'n_estimators': [100, 200, 300, 400, 500, 600, 700, 800, 900, 1000, 1100, 1200], 'max_features': ['auto', 'sqrt'], 'max_depth': [5, 10, 15, 20, 25, 30], 'min_samples_split': [2, 5, 10, 15, 100], 'min_samples_leaf': [1, 2, 5, 10]}\n"
     ]
    }
   ],
   "source": [
    "# Create the random grid\n",
    "random_grid = {'n_estimators': n_estimators,\n",
    "               'max_features': max_features,\n",
    "               'max_depth': max_depth,\n",
    "               'min_samples_split': min_samples_split,\n",
    "               'min_samples_leaf': min_samples_leaf}\n",
    "\n",
    "print(random_grid)"
   ]
  },
  {
   "cell_type": "code",
   "execution_count": 175,
   "metadata": {
    "id": "67cVjy3W8-1P"
   },
   "outputs": [],
   "source": [
    "# random grid to search for best hyperparameters\n",
    "\n",
    "rf = RandomForestRegressor()"
   ]
  },
  {
   "cell_type": "code",
   "execution_count": 176,
   "metadata": {
    "id": "LWgeK7Gl9t8g"
   },
   "outputs": [],
   "source": [
    "# Random search of parameters, using 3 fold cross validation, \n",
    "# search across 100 different combinations\n",
    "rf_random = RandomizedSearchCV(estimator = rf, param_distributions = random_grid,scoring='neg_mean_squared_error', n_iter = 10, cv = 5, verbose=2, random_state=42)"
   ]
  },
  {
   "cell_type": "code",
   "execution_count": 177,
   "metadata": {
    "colab": {
     "base_uri": "https://localhost:8080/"
    },
    "id": "V8_QMz5V9uAd",
    "outputId": "19ce1fff-5dc3-4847-e43e-c1ebd87760ad"
   },
   "outputs": [
    {
     "name": "stdout",
     "output_type": "stream",
     "text": [
      "Fitting 5 folds for each of 10 candidates, totalling 50 fits\n",
      "[CV] END max_depth=10, max_features=sqrt, min_samples_leaf=5, min_samples_split=5, n_estimators=900; total time=   1.3s\n",
      "[CV] END max_depth=10, max_features=sqrt, min_samples_leaf=5, min_samples_split=5, n_estimators=900; total time=   1.2s\n",
      "[CV] END max_depth=10, max_features=sqrt, min_samples_leaf=5, min_samples_split=5, n_estimators=900; total time=   1.2s\n",
      "[CV] END max_depth=10, max_features=sqrt, min_samples_leaf=5, min_samples_split=5, n_estimators=900; total time=   1.1s\n",
      "[CV] END max_depth=10, max_features=sqrt, min_samples_leaf=5, min_samples_split=5, n_estimators=900; total time=   1.1s\n",
      "[CV] END max_depth=15, max_features=sqrt, min_samples_leaf=2, min_samples_split=10, n_estimators=1100; total time=   1.4s\n",
      "[CV] END max_depth=15, max_features=sqrt, min_samples_leaf=2, min_samples_split=10, n_estimators=1100; total time=   1.4s\n",
      "[CV] END max_depth=15, max_features=sqrt, min_samples_leaf=2, min_samples_split=10, n_estimators=1100; total time=   1.4s\n",
      "[CV] END max_depth=15, max_features=sqrt, min_samples_leaf=2, min_samples_split=10, n_estimators=1100; total time=   1.5s\n",
      "[CV] END max_depth=15, max_features=sqrt, min_samples_leaf=2, min_samples_split=10, n_estimators=1100; total time=   1.4s\n",
      "[CV] END max_depth=15, max_features=auto, min_samples_leaf=5, min_samples_split=100, n_estimators=300; total time=   0.3s\n",
      "[CV] END max_depth=15, max_features=auto, min_samples_leaf=5, min_samples_split=100, n_estimators=300; total time=   0.3s\n",
      "[CV] END max_depth=15, max_features=auto, min_samples_leaf=5, min_samples_split=100, n_estimators=300; total time=   0.3s\n",
      "[CV] END max_depth=15, max_features=auto, min_samples_leaf=5, min_samples_split=100, n_estimators=300; total time=   0.3s\n",
      "[CV] END max_depth=15, max_features=auto, min_samples_leaf=5, min_samples_split=100, n_estimators=300; total time=   0.3s\n",
      "[CV] END max_depth=15, max_features=auto, min_samples_leaf=5, min_samples_split=5, n_estimators=400; total time=   0.4s\n",
      "[CV] END max_depth=15, max_features=auto, min_samples_leaf=5, min_samples_split=5, n_estimators=400; total time=   0.6s\n",
      "[CV] END max_depth=15, max_features=auto, min_samples_leaf=5, min_samples_split=5, n_estimators=400; total time=   0.6s\n",
      "[CV] END max_depth=15, max_features=auto, min_samples_leaf=5, min_samples_split=5, n_estimators=400; total time=   0.9s\n",
      "[CV] END max_depth=15, max_features=auto, min_samples_leaf=5, min_samples_split=5, n_estimators=400; total time=   0.6s\n",
      "[CV] END max_depth=20, max_features=auto, min_samples_leaf=10, min_samples_split=5, n_estimators=700; total time=   1.1s\n",
      "[CV] END max_depth=20, max_features=auto, min_samples_leaf=10, min_samples_split=5, n_estimators=700; total time=   1.6s\n",
      "[CV] END max_depth=20, max_features=auto, min_samples_leaf=10, min_samples_split=5, n_estimators=700; total time=   0.8s\n",
      "[CV] END max_depth=20, max_features=auto, min_samples_leaf=10, min_samples_split=5, n_estimators=700; total time=   0.9s\n",
      "[CV] END max_depth=20, max_features=auto, min_samples_leaf=10, min_samples_split=5, n_estimators=700; total time=   1.3s\n",
      "[CV] END max_depth=25, max_features=sqrt, min_samples_leaf=1, min_samples_split=2, n_estimators=1000; total time=   1.7s\n",
      "[CV] END max_depth=25, max_features=sqrt, min_samples_leaf=1, min_samples_split=2, n_estimators=1000; total time=   1.9s\n",
      "[CV] END max_depth=25, max_features=sqrt, min_samples_leaf=1, min_samples_split=2, n_estimators=1000; total time=   2.2s\n",
      "[CV] END max_depth=25, max_features=sqrt, min_samples_leaf=1, min_samples_split=2, n_estimators=1000; total time=   1.8s\n",
      "[CV] END max_depth=25, max_features=sqrt, min_samples_leaf=1, min_samples_split=2, n_estimators=1000; total time=   1.7s\n",
      "[CV] END max_depth=5, max_features=sqrt, min_samples_leaf=10, min_samples_split=15, n_estimators=1100; total time=   1.4s\n",
      "[CV] END max_depth=5, max_features=sqrt, min_samples_leaf=10, min_samples_split=15, n_estimators=1100; total time=   1.6s\n",
      "[CV] END max_depth=5, max_features=sqrt, min_samples_leaf=10, min_samples_split=15, n_estimators=1100; total time=   1.9s\n",
      "[CV] END max_depth=5, max_features=sqrt, min_samples_leaf=10, min_samples_split=15, n_estimators=1100; total time=   2.2s\n",
      "[CV] END max_depth=5, max_features=sqrt, min_samples_leaf=10, min_samples_split=15, n_estimators=1100; total time=   1.6s\n",
      "[CV] END max_depth=15, max_features=sqrt, min_samples_leaf=1, min_samples_split=15, n_estimators=300; total time=   0.4s\n",
      "[CV] END max_depth=15, max_features=sqrt, min_samples_leaf=1, min_samples_split=15, n_estimators=300; total time=   0.4s\n",
      "[CV] END max_depth=15, max_features=sqrt, min_samples_leaf=1, min_samples_split=15, n_estimators=300; total time=   0.4s\n",
      "[CV] END max_depth=15, max_features=sqrt, min_samples_leaf=1, min_samples_split=15, n_estimators=300; total time=   0.3s\n",
      "[CV] END max_depth=15, max_features=sqrt, min_samples_leaf=1, min_samples_split=15, n_estimators=300; total time=   0.4s\n",
      "[CV] END max_depth=5, max_features=sqrt, min_samples_leaf=2, min_samples_split=10, n_estimators=700; total time=   0.9s\n",
      "[CV] END max_depth=5, max_features=sqrt, min_samples_leaf=2, min_samples_split=10, n_estimators=700; total time=   1.0s\n",
      "[CV] END max_depth=5, max_features=sqrt, min_samples_leaf=2, min_samples_split=10, n_estimators=700; total time=   0.9s\n",
      "[CV] END max_depth=5, max_features=sqrt, min_samples_leaf=2, min_samples_split=10, n_estimators=700; total time=   1.0s\n",
      "[CV] END max_depth=5, max_features=sqrt, min_samples_leaf=2, min_samples_split=10, n_estimators=700; total time=   0.9s\n",
      "[CV] END max_depth=20, max_features=auto, min_samples_leaf=1, min_samples_split=15, n_estimators=700; total time=   1.0s\n",
      "[CV] END max_depth=20, max_features=auto, min_samples_leaf=1, min_samples_split=15, n_estimators=700; total time=   1.2s\n",
      "[CV] END max_depth=20, max_features=auto, min_samples_leaf=1, min_samples_split=15, n_estimators=700; total time=   1.0s\n",
      "[CV] END max_depth=20, max_features=auto, min_samples_leaf=1, min_samples_split=15, n_estimators=700; total time=   1.1s\n",
      "[CV] END max_depth=20, max_features=auto, min_samples_leaf=1, min_samples_split=15, n_estimators=700; total time=   1.0s\n"
     ]
    },
    {
     "data": {
      "text/plain": [
       "RandomizedSearchCV(cv=5, estimator=RandomForestRegressor(),\n",
       "                   param_distributions={'max_depth': [5, 10, 15, 20, 25, 30],\n",
       "                                        'max_features': ['auto', 'sqrt'],\n",
       "                                        'min_samples_leaf': [1, 2, 5, 10],\n",
       "                                        'min_samples_split': [2, 5, 10, 15,\n",
       "                                                              100],\n",
       "                                        'n_estimators': [100, 200, 300, 400,\n",
       "                                                         500, 600, 700, 800,\n",
       "                                                         900, 1000, 1100,\n",
       "                                                         1200]},\n",
       "                   random_state=42, scoring='neg_mean_squared_error',\n",
       "                   verbose=2)"
      ]
     },
     "execution_count": 177,
     "metadata": {},
     "output_type": "execute_result"
    }
   ],
   "source": [
    "rf_random.fit(X_train,y_train)\n"
   ]
  },
  {
   "cell_type": "code",
   "execution_count": 178,
   "metadata": {
    "colab": {
     "base_uri": "https://localhost:8080/"
    },
    "id": "Ui_-L7-z9uE_",
    "outputId": "cc36c7f7-68b8-43c7-862c-5545f675442d"
   },
   "outputs": [
    {
     "data": {
      "text/plain": [
       "{'n_estimators': 1000,\n",
       " 'min_samples_split': 2,\n",
       " 'min_samples_leaf': 1,\n",
       " 'max_features': 'sqrt',\n",
       " 'max_depth': 25}"
      ]
     },
     "execution_count": 178,
     "metadata": {},
     "output_type": "execute_result"
    }
   ],
   "source": [
    "rf_random.best_params_"
   ]
  },
  {
   "cell_type": "code",
   "execution_count": 179,
   "metadata": {
    "colab": {
     "base_uri": "https://localhost:8080/"
    },
    "id": "cfjfywum9uJC",
    "outputId": "d2be372f-f31b-4820-8ee7-787d19c80057"
   },
   "outputs": [
    {
     "data": {
      "text/plain": [
       "-5424599212.1959095"
      ]
     },
     "execution_count": 179,
     "metadata": {},
     "output_type": "execute_result"
    }
   ],
   "source": [
    "rf_random.best_score_"
   ]
  },
  {
   "cell_type": "markdown",
   "metadata": {},
   "source": [
    "# Model Evaluation"
   ]
  },
  {
   "cell_type": "code",
   "execution_count": 180,
   "metadata": {},
   "outputs": [],
   "source": [
    "predictions=rf_random.predict(X_train)"
   ]
  },
  {
   "cell_type": "code",
   "execution_count": 181,
   "metadata": {},
   "outputs": [
    {
     "data": {
      "text/plain": [
       "<AxesSubplot:xlabel='price', ylabel='Density'>"
      ]
     },
     "execution_count": 181,
     "metadata": {},
     "output_type": "execute_result"
    },
    {
     "data": {
      "image/png": "[encoded data removed]",
      "text/plain": [
       "<Figure size 432x288 with 1 Axes>"
      ]
     },
     "metadata": {
      "needs_background": "light"
     },
     "output_type": "display_data"
    }
   ],
   "source": [
    "sns.distplot(y_train-predictions)"
   ]
  },
  {
   "cell_type": "code",
   "execution_count": 182,
   "metadata": {},
   "outputs": [
    {
     "data": {
      "text/plain": [
       "<matplotlib.collections.PathCollection at 0x1c91b5292b0>"
      ]
     },
     "execution_count": 182,
     "metadata": {},
     "output_type": "execute_result"
    },
    {
     "data": {
      "image/png": "[encoded data removed]",
      "text/plain": [
       "<Figure size 432x288 with 1 Axes>"
      ]
     },
     "metadata": {
      "needs_background": "light"
     },
     "output_type": "display_data"
    }
   ],
   "source": [
    "plt.scatter(y_train,predictions)"
   ]
  },
  {
   "cell_type": "code",
   "execution_count": 183,
   "metadata": {},
   "outputs": [
    {
     "data": {
      "text/plain": [
       "0.8023715415019763"
      ]
     },
     "execution_count": 183,
     "metadata": {},
     "output_type": "execute_result"
    }
   ],
   "source": [
    "(y_train-predictions <= 5000).sum()/len(y_train)"
   ]
  },
  {
   "cell_type": "code",
   "execution_count": 184,
   "metadata": {
    "id": "rmx2_9Ws9uOC"
   },
   "outputs": [],
   "source": [
    "predictions=rf_random.predict(X_test)"
   ]
  },
  {
   "cell_type": "code",
   "execution_count": 185,
   "metadata": {
    "colab": {
     "base_uri": "https://localhost:8080/",
     "height": 308
    },
    "id": "xdEUry_j8-5G",
    "outputId": "c76f2e68-775e-4abd-863b-2880a2f446b6"
   },
   "outputs": [
    {
     "data": {
      "text/plain": [
       "<AxesSubplot:xlabel='price', ylabel='Density'>"
      ]
     },
     "execution_count": 185,
     "metadata": {},
     "output_type": "execute_result"
    },
    {
     "data": {
      "image/png": "[encoded data removed]",
      "text/plain": [
       "<Figure size 432x288 with 1 Axes>"
      ]
     },
     "metadata": {
      "needs_background": "light"
     },
     "output_type": "display_data"
    }
   ],
   "source": [
    "sns.distplot(y_test-predictions)"
   ]
  },
  {
   "cell_type": "code",
   "execution_count": 186,
   "metadata": {},
   "outputs": [
    {
     "data": {
      "text/plain": [
       "<AxesSubplot:xlabel='price', ylabel='Density'>"
      ]
     },
     "execution_count": 186,
     "metadata": {},
     "output_type": "execute_result"
    },
    {
     "data": {
      "image/png": "[encoded data removed]",
      "text/plain": [
       "<Figure size 432x288 with 1 Axes>"
      ]
     },
     "metadata": {
      "needs_background": "light"
     },
     "output_type": "display_data"
    }
   ],
   "source": [
    "sns.distplot(y_test)\n",
    "sns.distplot(predictions)"
   ]
  },
  {
   "cell_type": "code",
   "execution_count": 187,
   "metadata": {
    "colab": {
     "base_uri": "https://localhost:8080/",
     "height": 296
    },
    "id": "_-0EJu21-qJH",
    "outputId": "745362b4-8224-4d4d-f70a-ebbf5ab51ca8"
   },
   "outputs": [
    {
     "data": {
      "text/plain": [
       "<matplotlib.collections.PathCollection at 0x1c91b6d6160>"
      ]
     },
     "execution_count": 187,
     "metadata": {},
     "output_type": "execute_result"
    },
    {
     "data": {
      "image/png": "[encoded data removed]",
      "text/plain": [
       "<Figure size 432x288 with 1 Axes>"
      ]
     },
     "metadata": {
      "needs_background": "light"
     },
     "output_type": "display_data"
    }
   ],
   "source": [
    "plt.scatter(y_test,predictions)"
   ]
  },
  {
   "cell_type": "code",
   "execution_count": 201,
   "metadata": {},
   "outputs": [
    {
     "name": "stdout",
     "output_type": "stream",
     "text": [
      "72% of test data were predicted with an error less than 1000 dirhams wich is very good\n"
     ]
    }
   ],
   "source": [
    "print('{0:.0f}% of test data were predicted with an error less than 1000 dirhams wich is very good'.format((y_test-predictions <= 1000).sum()/len(y_test)*100))"
   ]
  },
  {
   "cell_type": "code",
   "execution_count": 189,
   "metadata": {
    "id": "5MGrJYAK-qNY"
   },
   "outputs": [],
   "source": [
    "from sklearn import metrics"
   ]
  },
  {
   "cell_type": "code",
   "execution_count": 190,
   "metadata": {
    "colab": {
     "base_uri": "https://localhost:8080/"
    },
    "id": "t3cvijbZ-qSC",
    "outputId": "fb4b12a0-1f91-4c96-ea4f-5c46301b9fd5"
   },
   "outputs": [
    {
     "name": "stdout",
     "output_type": "stream",
     "text": [
      "MAE: 23433.85984574447\n",
      "MSE: 1239649141.3470306\n",
      "RMSE: 35208.65151276076\n",
      "R2: 0.6873176360463455\n"
     ]
    }
   ],
   "source": [
    "print('MAE:', metrics.mean_absolute_error(y_test, predictions))\n",
    "print('MSE:', metrics.mean_squared_error(y_test, predictions))\n",
    "print('RMSE:', np.sqrt(metrics.mean_squared_error(y_test, predictions)))\n",
    "print('R2:', metrics.r2_score(y_test, predictions))"
   ]
  },
  {
   "cell_type": "markdown",
   "metadata": {},
   "source": [
    "# More Prediction "
   ]
  },
  {
   "cell_type": "code",
   "execution_count": 192,
   "metadata": {},
   "outputs": [],
   "source": [
    "y_test.reset_index(drop=True,inplace=True)\n",
    "X_test.reset_index(drop=True,inplace=True)"
   ]
  },
  {
   "cell_type": "code",
   "execution_count": 196,
   "metadata": {
    "colab": {
     "base_uri": "https://localhost:8080/"
    },
    "id": "FDmiK0txH-Rc",
    "outputId": "14f190e9-72f2-458d-c4d4-80b1b8415cde"
   },
   "outputs": [
    {
     "data": {
      "text/plain": [
       "61000"
      ]
     },
     "execution_count": 196,
     "metadata": {},
     "output_type": "execute_result"
    }
   ],
   "source": [
    "idx = random.choice(list(y_test.index))\n",
    "y_test.iloc[idx]"
   ]
  },
  {
   "cell_type": "code",
   "execution_count": 197,
   "metadata": {},
   "outputs": [
    {
     "data": {
      "text/plain": [
       "Année                        13.0\n",
       "Kilométrage              177000.0\n",
       "new_price                172667.0\n",
       "Transmission_Manuelle         1.0\n",
       "Carburant_Essence             1.0\n",
       "Name: 26, dtype: float64"
      ]
     },
     "execution_count": 197,
     "metadata": {},
     "output_type": "execute_result"
    }
   ],
   "source": [
    "X_test.iloc[idx,:]"
   ]
  },
  {
   "cell_type": "code",
   "execution_count": 198,
   "metadata": {
    "colab": {
     "base_uri": "https://localhost:8080/"
    },
    "id": "IJmdAGcU-20u",
    "outputId": "de0842ee-72a9-46af-913c-50e23df1b8a1"
   },
   "outputs": [
    {
     "data": {
      "text/plain": [
       "array([61833.29333333])"
      ]
     },
     "execution_count": 198,
     "metadata": {},
     "output_type": "execute_result"
    }
   ],
   "source": [
    "rf_random.predict(X_test.iloc[idx,:].values.reshape(1,-1))"
   ]
  },
  {
   "cell_type": "code",
   "execution_count": 200,
   "metadata": {
    "id": "iV3pCwhu-y7l"
   },
   "outputs": [],
   "source": [
    "import pickle\n",
    "\n",
    "with open('model.pkl', 'wb') as f:\n",
    "    pickle.dump(rf_random, file)"
   ]
  },
  {
   "cell_type": "code",
   "execution_count": null,
   "metadata": {
    "id": "9cQYs_a4-25R"
   },
   "outputs": [],
   "source": []
  },
  {
   "cell_type": "code",
   "execution_count": null,
   "metadata": {
    "id": "afangPm1-29z"
   },
   "outputs": [],
   "source": []
  },
  {
   "cell_type": "code",
   "execution_count": null,
   "metadata": {
    "id": "C-piZEkH-3CB"
   },
   "outputs": [],
   "source": []
  },
  {
   "cell_type": "code",
   "execution_count": null,
   "metadata": {
    "id": "IBHxMpnj-3O_"
   },
   "outputs": [],
   "source": []
  },
  {
   "cell_type": "code",
   "execution_count": null,
   "metadata": {
    "id": "kvOa0N41-3XD"
   },
   "outputs": [],
   "source": []
  },
  {
   "cell_type": "code",
   "execution_count": null,
   "metadata": {
    "id": "_70pEBSG-3e_"
   },
   "outputs": [],
   "source": []
  }
 ],
 "metadata": {
  "colab": {
   "collapsed_sections": [],
   "name": "Car_Price_Prediction.ipynb",
   "provenance": [],
   "toc_visible": true
  },
  "kernelspec": {
   "display_name": "Python 3 (ipykernel)",
   "language": "python",
   "name": "python3"
  },
  "language_info": {
   "codemirror_mode": {
    "name": "ipython",
    "version": 3
   },
   "file_extension": ".py",
   "mimetype": "text/x-python",
   "name": "python",
   "nbconvert_exporter": "python",
   "pygments_lexer": "ipython3",
   "version": "3.8.7"
  }
 },
 "nbformat": 4,
 "nbformat_minor": 1
}
